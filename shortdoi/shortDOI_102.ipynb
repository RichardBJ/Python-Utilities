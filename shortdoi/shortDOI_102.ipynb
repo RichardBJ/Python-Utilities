{
 "cells": [
  {
   "cell_type": "code",
   "execution_count": 1,
   "id": "4244d81c",
   "metadata": {},
   "outputs": [],
   "source": [
    "import requests\n",
    "import re"
   ]
  },
  {
   "cell_type": "code",
   "execution_count": 12,
   "id": "c049c982",
   "metadata": {},
   "outputs": [
    {
     "name": "stdout",
     "output_type": "stream",
     "text": [
      "http://shortdoi.org/10.3389/fphar.2015.00083?format=json\n",
      "https://doi.org/10/jp4s\n",
      "http://shortdoi.org/10.1152/physiol.00012.2011?format=json\n",
      "https://doi.org/10/fn6ngq\n",
      "http://shortdoi.org/10.1177/0748730410395849?format=json\n",
      "https://doi.org/10/c4t9gr\n"
     ]
    }
   ],
   "source": [
    "longDOIlist = [r\"10.3389/fphar.2015.00083\",\n",
    "               r\"10.1152/physiol.00012.2011\",\n",
    "               r\"10.1177/0748730410395849\"]\n",
    "\n"
   ]
  },
  {
   "cell_type": "code",
   "execution_count": 2,
   "id": "5dcfdf51",
   "metadata": {},
   "outputs": [
    {
     "name": "stdout",
     "output_type": "stream",
     "text": [
      "1 XXXX https://doi.org/10.1038/35006031 \n",
      "\n"
     ]
    },
    {
     "ename": "AttributeError",
     "evalue": "'NoneType' object has no attribute 'group'",
     "output_type": "error",
     "traceback": [
      "\u001b[1;31m---------------------------------------------------------------------------\u001b[0m",
      "\u001b[1;31mAttributeError\u001b[0m                            Traceback (most recent call last)",
      "\u001b[1;32m~\\AppData\\Local\\Temp\\ipykernel_38808\\704595922.py\u001b[0m in \u001b[0;36m<module>\u001b[1;34m\u001b[0m\n\u001b[0;32m      5\u001b[0m     \u001b[1;32mif\u001b[0m \u001b[1;34m\"doi.org\"\u001b[0m \u001b[1;32min\u001b[0m \u001b[0mline\u001b[0m\u001b[1;33m:\u001b[0m\u001b[1;33m\u001b[0m\u001b[1;33m\u001b[0m\u001b[0m\n\u001b[0;32m      6\u001b[0m         \u001b[0mresult\u001b[0m \u001b[1;33m=\u001b[0m \u001b[0mre\u001b[0m\u001b[1;33m.\u001b[0m\u001b[0msearch\u001b[0m\u001b[1;33m(\u001b[0m\u001b[1;34m'https://doi.org:(.*)'\u001b[0m\u001b[1;33m,\u001b[0m \u001b[0mline\u001b[0m\u001b[1;33m)\u001b[0m\u001b[1;33m\u001b[0m\u001b[1;33m\u001b[0m\u001b[0m\n\u001b[1;32m----> 7\u001b[1;33m         \u001b[0mlongDOIlist\u001b[0m\u001b[1;33m.\u001b[0m\u001b[0mappend\u001b[0m\u001b[1;33m(\u001b[0m\u001b[0mresult\u001b[0m\u001b[1;33m.\u001b[0m\u001b[0mgroup\u001b[0m\u001b[1;33m(\u001b[0m\u001b[1;36m1\u001b[0m\u001b[1;33m)\u001b[0m\u001b[1;33m)\u001b[0m\u001b[1;33m\u001b[0m\u001b[1;33m\u001b[0m\u001b[0m\n\u001b[0m\u001b[0;32m      8\u001b[0m         \u001b[0mprint\u001b[0m\u001b[1;33m(\u001b[0m\u001b[0mresult\u001b[0m\u001b[1;33m.\u001b[0m\u001b[0mgroup\u001b[0m\u001b[1;33m(\u001b[0m\u001b[1;36m1\u001b[0m\u001b[1;33m)\u001b[0m\u001b[1;33m)\u001b[0m\u001b[1;33m\u001b[0m\u001b[1;33m\u001b[0m\u001b[0m\n\u001b[0;32m      9\u001b[0m \u001b[1;33m\u001b[0m\u001b[0m\n",
      "\u001b[1;31mAttributeError\u001b[0m: 'NoneType' object has no attribute 'group'"
     ]
    }
   ],
   "source": [
    "file = open('references.txt', 'rt')\n",
    "longDOIlist=[]\n",
    "for line in file:\n",
    "    print(line)\n",
    "    if \"doi.org\" in line:\n",
    "        result = re.search('https://doi.org:(.*)', line)\n",
    "        longDOIlist.append(result.group(1))\n",
    "        print(result.group(1))\n",
    "    \n"
   ]
  },
  {
   "cell_type": "code",
   "execution_count": 3,
   "id": "aa7f38b8",
   "metadata": {},
   "outputs": [],
   "source": [
    "# Check the list\n",
    "for doi in longDOIlist:\n",
    "    print(doi)\n",
    "    "
   ]
  },
  {
   "cell_type": "code",
   "execution_count": 45,
   "id": "583e2a4a",
   "metadata": {},
   "outputs": [
    {
     "name": "stdout",
     "output_type": "stream",
     "text": [
      "\n",
      "http://shortdoi.org/10.1073/pnas.0605903103?format=json\n",
      "https://doi.org/br78vp\n",
      "\n",
      "http://shortdoi.org/10.1152/physiol.00012.2011?format=json\n",
      "https://doi.org/fn6ngq\n",
      "\n",
      "http://shortdoi.org/10.1177/0748730410395849?format=json\n",
      "https://doi.org/c4t9gr\n",
      "\n",
      "http://shortdoi.org/10.1016/s0531-5565(02)00198-5?format=json\n",
      "https://doi.org/bcxtmw\n",
      "\n",
      "http://shortdoi.org/10.2174/157015911795596531?format=json\n",
      "https://doi.org/bsvv2n\n",
      "\n",
      "http://shortdoi.org/10.14814/phy2.12207?format=json\n",
      "https://doi.org/jp4r\n",
      "\n",
      "http://shortdoi.org/10.1161/CIRCRESAHA.107.153494?format=json\n",
      "https://doi.org/fdv48x\n",
      "\n",
      "http://shortdoi.org/10.1113/expphysiol.2013.073064?format=json\n",
      "https://doi.org/f5b7mh\n",
      "\n",
      "http://shortdoi.org/10.3389/fphar.2015.00083?format=json\n",
      "https://doi.org/jp4s\n",
      "\n",
      "http://shortdoi.org/10.1111/bph.13023?format=json\n",
      "https://doi.org/f6588b\n",
      "\n",
      "http://shortdoi.org/10.1073/pnas.0604189103?format=json\n",
      "https://doi.org/fb5qpp\n",
      "\n",
      "http://shortdoi.org/10.1016/S0165-0270(00)00271-5?format=json\n",
      "https://doi.org/bzndxz\n",
      "\n",
      "http://shortdoi.org/10.1038/sj.bjp.0706911?format=json\n",
      "https://doi.org/bdkv93\n",
      "\n",
      "http://shortdoi.org/10.1038/nn.3752?format=json\n",
      "https://doi.org/f6bbnk\n",
      "\n",
      "http://shortdoi.org/10.1186/s12859-020-03830-w?format=json\n",
      "https://doi.org/gqth36\n",
      "\n",
      "http://shortdoi.org/10.1101/2020.06.25.171918?format=json\n",
      "https://doi.org/grgrj9\n",
      "\n",
      "http://shortdoi.org/10.1038/s42003-019-0729-3?format=json\n",
      "https://doi.org/jp4v\n",
      "\n",
      "http://shortdoi.org/10.1152/physrev.00005.2008?format=json\n",
      "https://doi.org/c7c8gq\n",
      "\n",
      "http://shortdoi.org/10.1038/nature15709?format=json\n",
      "https://doi.org/f7w8ks\n",
      "\n",
      "http://shortdoi.org/10.1098/rsif.2014.1036?format=json\n",
      "https://doi.org/gnj2b9\n",
      "\n",
      "http://shortdoi.org/10.1161/CIRCRESAHA.118.314202?format=json\n",
      "https://doi.org/grgrkb\n",
      "\n",
      "http://shortdoi.org/10.1038/nature11247?format=json\n",
      "https://doi.org/bg9d\n",
      "\n",
      "http://shortdoi.org/10.1073/pnas.1808734116?format=json\n",
      "https://doi.org/grgrkc\n",
      "\n",
      "http://shortdoi.org/10.1016/j.cels.2021.02.004?format=json\n",
      "https://doi.org/gnt97c\n",
      "\n",
      "http://shortdoi.org/10.1089/scd.2018.0170?format=json\n",
      "https://doi.org/jp47\n",
      "\n",
      "http://shortdoi.org/10.1093/eurheartj/ehy249?format=json\n",
      "https://doi.org/gmjm5q\n",
      "\n",
      "http://shortdoi.org/10.1038/s41569-019-0331-x?format=json\n",
      "https://doi.org/ghdzv6\n"
     ]
    }
   ],
   "source": [
    "with open('shortDOI.txt', 'a') as file:\n",
    "    for doi in longDOIlist:\n",
    "        url = \"http://shortdoi.org/\"+doi+\"?format=json\"\n",
    "        print(\"\\n\"+url)\n",
    "        requestioobject=requests.get(url=url)\n",
    "        data=requestioobject.json()\n",
    "        shortDOI=\"https://doi.org/\"+data[\"ShortDOI\"]\n",
    "        shortDOI=shortDOI.replace(r\"/10/\",r\"/\")\n",
    "        print(shortDOI)\n",
    "        file.write(\"\\n\\n\")\n",
    "        file.write(\"https://doi.org/\"+doi+\"\\n\")\n",
    "        file.write(shortDOI)"
   ]
  },
  {
   "cell_type": "code",
   "execution_count": 22,
   "id": "eacddf63",
   "metadata": {},
   "outputs": [],
   "source": [
    "def do_one_doi(url):\n",
    "    print(url)\n",
    "    requestioobject=requests.get(url=url)\n",
    "    data=requestioobject.json()\n",
    "    shortDOI=\"https://doi.org/\"+data[\"ShortDOI\"]\n",
    "    shortDOI=shortDOI.replace(r\"/10/\",r\"/\")\n",
    "    return shortDOI\n",
    "    "
   ]
  },
  {
   "cell_type": "code",
   "execution_count": 25,
   "id": "90248f10",
   "metadata": {},
   "outputs": [],
   "source": [
    "def do_one_line(line):\n",
    "        with open('shortDOI_2.txt', 'a') as file:\n",
    "            if \"doi.org\" in line:\n",
    "                result = re.search('https://doi.org/(.*)', line)\n",
    "                doi = result.group(1)\n",
    "                print(doi)\n",
    "                file.write(\"\\n\\n\")\n",
    "                file.write(line)\n",
    "                url = \"http://shortdoi.org/\"+doi+\"?format=json\"\n",
    "                file.write(url)\n",
    "                shortDOI=do_one_doi(url)\n",
    "                print(shortDOI)\n",
    "                file.write(\"\\n\")\n",
    "                file.write(shortDOI)\n",
    "            else:\n",
    "                file.write(\"\\n\\n\")\n",
    "                file.write(line)\n"
   ]
  },
  {
   "cell_type": "code",
   "execution_count": 27,
   "id": "94018556",
   "metadata": {},
   "outputs": [
    {
     "name": "stdout",
     "output_type": "stream",
     "text": [
      "\n",
      "\n",
      "\n",
      "1 XXXX https://doi.org/10.1038/35006031\n",
      "\n",
      "10.1038/35006031\n",
      "http://shortdoi.org/10.1038/35006031?format=json\n",
      "https://doi.org/cppkk7\n",
      "\n",
      "\n",
      "\n",
      "2 XXXX https://doi.org/10.1038/nchem.295\n",
      "\n",
      "10.1038/nchem.295\n",
      "http://shortdoi.org/10.1038/nchem.295?format=json\n",
      "https://doi.org/fsq3dc\n",
      "\n",
      "\n",
      "\n",
      "3 XXXX https://doi.org/10.1038/nmat2403\n",
      "\n",
      "10.1038/nmat2403\n",
      "http://shortdoi.org/10.1038/nmat2403?format=json\n",
      "https://doi.org/bmw9jq\n",
      "\n",
      "\n",
      "\n",
      "2 XXXX https://doi.org/10.1021/ja202986s\n",
      "\n",
      "10.1021/ja202986s\n",
      "http://shortdoi.org/10.1021/ja202986s?format=json\n",
      "https://doi.org/cmt6ft\n",
      "\n",
      "\n",
      "\n",
      "2 XXXX https://doi.org/10.1038/s41598-017-05693-3\n",
      "\n",
      "10.1038/s41598-017-05693-3\n",
      "http://shortdoi.org/10.1038/s41598-017-05693-3?format=json\n",
      "https://doi.org/gbpvdp\n",
      "\n",
      "\n",
      "\n",
      "2 XXXX https://doi.org/10.3390/nano12040683\n",
      "\n",
      "10.3390/nano12040683\n",
      "http://shortdoi.org/10.3390/nano12040683?format=json\n",
      "https://doi.org/grgtkz\n"
     ]
    }
   ],
   "source": [
    "'''Must be 1 XXXX https://doi.org/10.1038/35006031 with no trailing spaces!'''\n",
    "file = open('references.txt', 'rt')\n",
    "for line in file:\n",
    "    print(\"\\n\\n\")\n",
    "    print(line)\n",
    "    do_one_line(line)"
   ]
  },
  {
   "cell_type": "code",
   "execution_count": null,
   "id": "45f245c5",
   "metadata": {},
   "outputs": [],
   "source": []
  },
  {
   "cell_type": "code",
   "execution_count": null,
   "id": "ee5b60b4",
   "metadata": {},
   "outputs": [],
   "source": []
  }
 ],
 "metadata": {
  "kernelspec": {
   "display_name": "Python 3 (ipykernel)",
   "language": "python",
   "name": "python3"
  },
  "language_info": {
   "codemirror_mode": {
    "name": "ipython",
    "version": 3
   },
   "file_extension": ".py",
   "mimetype": "text/x-python",
   "name": "python",
   "nbconvert_exporter": "python",
   "pygments_lexer": "ipython3",
   "version": "3.7.4"
  }
 },
 "nbformat": 4,
 "nbformat_minor": 5
}
