{
 "cells": [
  {
   "cell_type": "code",
   "execution_count": null,
   "metadata": {},
   "outputs": [],
   "source": [
    "import pandas as pd\n",
    "import numpy as np\n",
    "import tkinter as tk\n",
    "from tkinter import filedialog\n",
    "QuB=False\n",
    "si=1e-5\n",
    "#FREQKH=25\n",
    "'''JUST DOES AN OPEN OR CLOSED FILE!!'''\n",
    "'''need to set or CHECK mysstate size this from the raw data'''\n",
    "\n",
    "root = tk.Tk()\n",
    "root.withdraw()\n",
    "file = filedialog.askopenfilename()\n",
    "\n",
    "skip=0\n",
    "if QuB==True:\n",
    "    #cell=8\n",
    "    #file=f'/Users/richardbarrett-jolley/Dropbox/Sean/Sean Cell attached Kir6.1 data/cell{cell}idl.csv'\n",
    "    df=pd.read_csv(file,header=None, names=['t','level'],delimiter=',', index_col=False,skiprows=skip)\n",
    "    time=df.loc[:,\"t\"].to_numpy()\n",
    "    data=df.loc[:,\"level\"].to_numpy()\n",
    "else:\n",
    "    df=pd.read_csv(file,header=None, names=['t','level'],delimiter='\\t', index_col=False,skiprows=skip)\n",
    "    time=df.loc[:,\"t\"].to_numpy()\n",
    "    data=df.loc[:,\"level\"].to_numpy()\n",
    "mystate=max(data)    \n",
    "'''may need to skip several potential rows of header!'''\n",
    "'''with open(file,'rt') as filein:\n",
    "    row=float(filein.readline().strip)'''\n",
    "print(df[1:10])    \n",
    "print(time[1:20])\n",
    "print(data[1:100])\n",
    "print(len(data))"
   ]
  },
  {
   "cell_type": "code",
   "execution_count": null,
   "metadata": {},
   "outputs": [],
   "source": [
    "#si=1/(1000*FREQKH)\n",
    "print(f'mystate is {mystate}pA')"
   ]
  },
  {
   "cell_type": "code",
   "execution_count": null,
   "metadata": {},
   "outputs": [],
   "source": [
    "#Sums\n",
    "sums=[sum(time[:i]) for i in range(len(time)) ]\n",
    "print(max(sums))\n",
    "print(np.sum(time))"
   ]
  },
  {
   "cell_type": "code",
   "execution_count": null,
   "metadata": {},
   "outputs": [],
   "source": [
    "def extendtime(si,time):\n",
    "    return [1]*int(round(time/si))\n",
    "\n",
    "output=[]\n",
    "for count, val in enumerate(time):\n",
    "    newdata=extendtime(si,val)\n",
    "    if data[count]==mystate:\n",
    "        newdata=[1 for _ in newdata]\n",
    "    else:\n",
    "        newdata=[0 for _ in newdata]\n",
    "        \n",
    "    output.extend(newdata)\n",
    "print(f'total outout len = {len(output)} but mystate length = {sum(output)}')"
   ]
  },
  {
   "cell_type": "code",
   "execution_count": null,
   "metadata": {},
   "outputs": [],
   "source": [
    "print(sum(time))"
   ]
  },
  {
   "cell_type": "code",
   "execution_count": null,
   "metadata": {},
   "outputs": [],
   "source": [
    "from matplotlib import pyplot as plt\n",
    "length=10000\n",
    "plt.figure(figsize=(16, 6))\n",
    "plt.subplot(311)\n",
    "plt.plot(output[0:length])\n",
    "plt.subplot(312)\n",
    "plt.plot(output[length:2*length])\n",
    "plt.subplot(313)\n",
    "plt.plot(output[2*length:3*length])"
   ]
  },
  {
   "cell_type": "code",
   "execution_count": null,
   "metadata": {},
   "outputs": [],
   "source": [
    "df=pd.DataFrame(data=output)\n",
    "#df.to_csv(f'/Users/richardbarrett-jolley/Dropbox/Sean/Sean Cell attached Kir6.1 data/cell{cell}RECON10.txt',index=False,header=False)\n",
    "outname=file.replace(\".txt\",\"_stiched.csv\")\n",
    "print(outname)\n",
    "df.to_csv(outname,header=False, index=False)"
   ]
  },
  {
   "cell_type": "code",
   "execution_count": null,
   "metadata": {},
   "outputs": [],
   "source": []
  }
 ],
 "metadata": {
  "kernelspec": {
   "display_name": "Python 3",
   "language": "python",
   "name": "python3"
  },
  "language_info": {
   "codemirror_mode": {
    "name": "ipython",
    "version": 3
   },
   "file_extension": ".py",
   "mimetype": "text/x-python",
   "name": "python",
   "nbconvert_exporter": "python",
   "pygments_lexer": "ipython3",
   "version": "3.7.6"
  }
 },
 "nbformat": 4,
 "nbformat_minor": 2
}
