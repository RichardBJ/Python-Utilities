{
 "cells": [
  {
   "cell_type": "code",
   "execution_count": 1,
   "metadata": {},
   "outputs": [],
   "source": [
    "import matplotlib.pyplot as plt\n",
    "import matplotlib.image as mpimg\n",
    "import glob\n",
    "import os, re\n",
    "\n",
    "def getLASTimage(folder:str, nameroot:str) -> int:\n",
    "    \"\"\"\n",
    "    Save the current image to the working directory of the program.\n",
    "    \"\"\"\n",
    "    currentImages = glob.glob(folder+\"/*.png\")\n",
    "   \n",
    "    numList = [0]\n",
    "    for img in currentImages:\n",
    "        i = os.path.splitext(img)[0]\n",
    "        try:\n",
    "            num = re.findall('[0-9]+$', i)[0]\n",
    "            numList.append(int(num))\n",
    "        except IndexError:\n",
    "            pass\n",
    "    numList = sorted(numList)\n",
    "    return folder+'/'+nameroot+f'{numList[-1]}.png',folder+'/'+nameroot+f'{numList[-2]}.png'"
   ]
  },
  {
   "cell_type": "code",
   "execution_count": 2,
   "metadata": {},
   "outputs": [
    {
     "name": "stdout",
     "output_type": "stream",
     "text": [
      "Using matplotlib backend: MacOSX\n"
     ]
    }
   ],
   "source": [
    "# wx, gtk, osx, tk, empty uses default  MY DEFAULT SEEMS MacOSX\n",
    "%matplotlib  \n",
    "folder='/Users/richardbarrett-jolley/Documents/GitHub/DeepGANnel/images'\n",
    "nameroot='epoch_'\n",
    "\n",
    "#One PC\n",
    "f1,f2=getLASTimage(folder, nameroot)\n",
    "img=mpimg.imread(f1)\n",
    "plt.subplot(2,2,1)\n",
    "plt.imshow(img)\n",
    "\n",
    "plt.subplot(2,2,2)\n",
    "img=mpimg.imread(f2)\n",
    "plt.imshow(img)\n",
    "'''\n",
    "folder='/Volumes/DeepChannel/Sam/SamGAN#/SamGAN2021_RBJ_Please_Help!/Claire35_4096_210809/images'\n",
    "f1,f2=getLASTimage(folder, nameroot)\n",
    "img=mpimg.imread(f1)\n",
    "plt.subplot(2,2,3)\n",
    "plt.imshow(img)'''\n",
    "\n",
    "plt.subplot(2,2,4)\n",
    "img=mpimg.imread(f2)\n",
    "plt.imshow(img)\n",
    "plt.show()"
   ]
  },
  {
   "cell_type": "code",
   "execution_count": null,
   "metadata": {},
   "outputs": [],
   "source": []
  },
  {
   "cell_type": "code",
   "execution_count": null,
   "metadata": {},
   "outputs": [],
   "source": []
  },
  {
   "cell_type": "code",
   "execution_count": null,
   "metadata": {},
   "outputs": [],
   "source": []
  }
 ],
 "metadata": {
  "kernelspec": {
   "display_name": "Python 3",
   "language": "python",
   "name": "python3"
  },
  "language_info": {
   "codemirror_mode": {
    "name": "ipython",
    "version": 3
   },
   "file_extension": ".py",
   "mimetype": "text/x-python",
   "name": "python",
   "nbconvert_exporter": "python",
   "pygments_lexer": "ipython3",
   "version": "3.7.6"
  }
 },
 "nbformat": 4,
 "nbformat_minor": 5
}
