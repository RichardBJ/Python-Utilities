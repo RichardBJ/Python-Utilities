{
 "cells": [
  {
   "cell_type": "code",
   "execution_count": 35,
   "id": "b09e3f43",
   "metadata": {},
   "outputs": [],
   "source": [
    "file=open(r\"/Users/richardbarrett-jolley/Dropbox/UbiShare/AutoRecovery.txt\",\"r\",encoding='latin-1')\n",
    "alltext = file.read()\n",
    "file.close()"
   ]
  },
  {
   "cell_type": "code",
   "execution_count": 36,
   "id": "9e869626",
   "metadata": {},
   "outputs": [
    {
     "name": "stdout",
     "output_type": "stream",
     "text": [
      "4620239\n"
     ]
    }
   ],
   "source": [
    "print(len(alltext))"
   ]
  },
  {
   "cell_type": "code",
   "execution_count": 37,
   "id": "77e3750d",
   "metadata": {},
   "outputs": [
    {
     "name": "stdout",
     "output_type": "stream",
     "text": [
      "4055243\n"
     ]
    }
   ],
   "source": [
    "import re\n",
    "x = re.sub('<EndNote>.*?</EndNote>', '', alltext, flags=re.DOTALL)\n",
    "print(len(x))"
   ]
  },
  {
   "cell_type": "code",
   "execution_count": 38,
   "id": "8b209c5e",
   "metadata": {},
   "outputs": [
    {
     "name": "stdout",
     "output_type": "stream",
     "text": [
      "4024378\n"
     ]
    }
   ],
   "source": [
    "x = re.sub('[.*?]', '', x, flags=re.DOTALL)\n",
    "print(len(x))"
   ]
  },
  {
   "cell_type": "code",
   "execution_count": 39,
   "id": "356c2462",
   "metadata": {},
   "outputs": [
    {
     "name": "stdout",
     "output_type": "stream",
     "text": [
      "4022890\n"
     ]
    }
   ],
   "source": [
    "x = re.sub('ADDIN ENCITE \u0013 ADDIN ENCITEDATA', '', x, flags=re.DOTALL)\n",
    "print(len(x))"
   ]
  },
  {
   "cell_type": "code",
   "execution_count": 40,
   "id": "387d129f",
   "metadata": {},
   "outputs": [
    {
     "name": "stdout",
     "output_type": "stream",
     "text": [
      "4022642\n"
     ]
    }
   ],
   "source": [
    "x = re.sub('ADDIN ENCITE.*?]', '', x, flags=re.DOTALL)\n",
    "print(len(x))"
   ]
  },
  {
   "cell_type": "code",
   "execution_count": 41,
   "id": "018d1e3e",
   "metadata": {},
   "outputs": [],
   "source": [
    "x=re.sub('[^A-Za-z0-9\\.\\r\\n]+', ' ', x)"
   ]
  },
  {
   "cell_type": "code",
   "execution_count": 42,
   "id": "1336052b",
   "metadata": {},
   "outputs": [],
   "source": [
    "f = open(r\"/Users/richardbarrett-jolley/Dropbox/UbiShare/AutoRecovery6.txt\", \"w\")\n",
    "f.write(x)\n",
    "f.close()"
   ]
  }
 ],
 "metadata": {
  "kernelspec": {
   "display_name": "Python 3 (ipykernel)",
   "language": "python",
   "name": "python3"
  },
  "language_info": {
   "codemirror_mode": {
    "name": "ipython",
    "version": 3
   },
   "file_extension": ".py",
   "mimetype": "text/x-python",
   "name": "python",
   "nbconvert_exporter": "python",
   "pygments_lexer": "ipython3",
   "version": "3.9.7"
  }
 },
 "nbformat": 4,
 "nbformat_minor": 5
}
