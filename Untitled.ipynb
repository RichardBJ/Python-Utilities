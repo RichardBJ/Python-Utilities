{
 "cells": [
  {
   "cell_type": "code",
   "execution_count": 17,
   "id": "1d40c084",
   "metadata": {},
   "outputs": [],
   "source": [
    "file=open(r\"/Users/richardbarrett-jolley/Dropbox/UbiShare/AutoRecovery.txt\",\"r\",encoding='latin-1')\n",
    "alltext = file.read()\n",
    "file.close()"
   ]
  },
  {
   "cell_type": "code",
   "execution_count": 18,
   "id": "8cd8a7eb",
   "metadata": {},
   "outputs": [
    {
     "name": "stdout",
     "output_type": "stream",
     "text": [
      "4620239\n"
     ]
    }
   ],
   "source": [
    "print(len(alltext))"
   ]
  },
  {
   "cell_type": "code",
   "execution_count": 19,
   "id": "d0d19410",
   "metadata": {},
   "outputs": [
    {
     "name": "stdout",
     "output_type": "stream",
     "text": [
      "4055243\n"
     ]
    }
   ],
   "source": [
    "import re\n",
    "x = re.sub('<EndNote>.*?</EndNote>', '', alltext, flags=re.DOTALL)\n",
    "print(len(x))"
   ]
  },
  {
   "cell_type": "code",
   "execution_count": 20,
   "id": "5fda9c23",
   "metadata": {},
   "outputs": [
    {
     "name": "stdout",
     "output_type": "stream",
     "text": [
      "4024378\n"
     ]
    }
   ],
   "source": [
    "x = re.sub('[.*?]', '', x, flags=re.DOTALL)\n",
    "print(len(x))"
   ]
  },
  {
   "cell_type": "code",
   "execution_count": 22,
   "id": "faa46335",
   "metadata": {},
   "outputs": [
    {
     "name": "stdout",
     "output_type": "stream",
     "text": [
      "4022890\n"
     ]
    }
   ],
   "source": [
    "x = re.sub('ADDIN ENCITE \u0013 ADDIN ENCITEDATA', '', x, flags=re.DOTALL)\n",
    "print(len(x))"
   ]
  },
  {
   "cell_type": "code",
   "execution_count": null,
   "id": "e45ee389",
   "metadata": {},
   "outputs": [],
   "source": []
  },
  {
   "cell_type": "code",
   "execution_count": 24,
   "id": "1ac35354",
   "metadata": {},
   "outputs": [],
   "source": [
    "f = open(r\"/Users/richardbarrett-jolley/Dropbox/UbiShare/AutoRecovery6.txt\", \"w\")\n",
    "f.write(x)\n",
    "f.close()"
   ]
  },
  {
   "cell_type": "code",
   "execution_count": null,
   "id": "ce6fd421",
   "metadata": {},
   "outputs": [],
   "source": []
  }
 ],
 "metadata": {
  "kernelspec": {
   "display_name": "Python 3 (ipykernel)",
   "language": "python",
   "name": "python3"
  },
  "language_info": {
   "codemirror_mode": {
    "name": "ipython",
    "version": 3
   },
   "file_extension": ".py",
   "mimetype": "text/x-python",
   "name": "python",
   "nbconvert_exporter": "python",
   "pygments_lexer": "ipython3",
   "version": "3.9.7"
  }
 },
 "nbformat": 4,
 "nbformat_minor": 5
}
