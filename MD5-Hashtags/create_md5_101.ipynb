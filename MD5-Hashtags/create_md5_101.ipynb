{
 "cells": [
  {
   "cell_type": "code",
   "execution_count": 1,
   "id": "86388bb1",
   "metadata": {},
   "outputs": [],
   "source": [
    "import hashlib, glob\n",
    "import pandas as pd"
   ]
  },
  {
   "cell_type": "code",
   "execution_count": 37,
   "id": "26b6d7bb",
   "metadata": {},
   "outputs": [],
   "source": [
    "# Create hashtags and save to file..."
   ]
  },
  {
   "cell_type": "code",
   "execution_count": 8,
   "id": "76e7c8c5",
   "metadata": {},
   "outputs": [],
   "source": [
    "files = glob.glob(r\"data/*z.feather\")"
   ]
  },
  {
   "cell_type": "code",
   "execution_count": 31,
   "id": "8f3768e4",
   "metadata": {},
   "outputs": [
    {
     "name": "stdout",
     "output_type": "stream",
     "text": [
      "data/channel2ECG1khz.feather\n",
      "data/channel5ECG1khz.feather\n"
     ]
    }
   ],
   "source": [
    "table={}\n",
    "for row, file in enumerate(files):\n",
    "    print(file)\n",
    "    table[row]=[file,hashlib.md5(open(file,'rb').\n",
    "                            read()).hexdigest()]"
   ]
  },
  {
   "cell_type": "code",
   "execution_count": 32,
   "id": "f4ebf946",
   "metadata": {},
   "outputs": [
    {
     "data": {
      "text/html": [
       "<div>\n",
       "<style scoped>\n",
       "    .dataframe tbody tr th:only-of-type {\n",
       "        vertical-align: middle;\n",
       "    }\n",
       "\n",
       "    .dataframe tbody tr th {\n",
       "        vertical-align: top;\n",
       "    }\n",
       "\n",
       "    .dataframe thead th {\n",
       "        text-align: right;\n",
       "    }\n",
       "</style>\n",
       "<table border=\"1\" class=\"dataframe\">\n",
       "  <thead>\n",
       "    <tr style=\"text-align: right;\">\n",
       "      <th></th>\n",
       "      <th>File</th>\n",
       "      <th>MD5</th>\n",
       "    </tr>\n",
       "  </thead>\n",
       "  <tbody>\n",
       "    <tr>\n",
       "      <th>0</th>\n",
       "      <td>data/channel2ECG1khz.feather</td>\n",
       "      <td>2af2af8691d80a9850bfebc52864c42f</td>\n",
       "    </tr>\n",
       "    <tr>\n",
       "      <th>1</th>\n",
       "      <td>data/channel5ECG1khz.feather</td>\n",
       "      <td>04ce9456d9d930e42605bdc26821bbaf</td>\n",
       "    </tr>\n",
       "  </tbody>\n",
       "</table>\n",
       "</div>"
      ],
      "text/plain": [
       "                           File                               MD5\n",
       "0  data/channel2ECG1khz.feather  2af2af8691d80a9850bfebc52864c42f\n",
       "1  data/channel5ECG1khz.feather  04ce9456d9d930e42605bdc26821bbaf"
      ]
     },
     "execution_count": 32,
     "metadata": {},
     "output_type": "execute_result"
    }
   ],
   "source": [
    "tabledf=pd.DataFrame.from_dict(table, \n",
    "        orient='index',columns=['File', 'MD5'])\n",
    "tabledf.head()"
   ]
  },
  {
   "cell_type": "code",
   "execution_count": 33,
   "id": "6890de7b",
   "metadata": {},
   "outputs": [],
   "source": [
    "tabledf.to_csv(\"hashtags.csv\",mode=\"a\")"
   ]
  },
  {
   "cell_type": "markdown",
   "id": "c2cf6e3f",
   "metadata": {},
   "source": [
    "# Check a hashtag"
   ]
  },
  {
   "cell_type": "code",
   "execution_count": 38,
   "id": "83408bb1",
   "metadata": {},
   "outputs": [
    {
     "name": "stdout",
     "output_type": "stream",
     "text": [
      "MD5 verified\n"
     ]
    }
   ],
   "source": [
    "# Correct original md5 goes here\n",
    "filename=\"data/channel2ECG1khz.feather\"\n",
    "original_md5 = \"'\"\"2af2af8691d80a9850bfebc52864c42f\"  \n",
    "\n",
    "# Open,close, read file and calculate MD5 on its contents \n",
    "with open(filename, 'rb') as file_to_check:\n",
    "    # read contents of the file\n",
    "    data = file_to_check.read()    \n",
    "    # pipe contents of the file through\n",
    "    md5_returned = hashlib.md5(data).hexdigest()\n",
    "\n",
    "# Finally compare original MD5 with freshly calculated\n",
    "if original_md5 == md5_returned:\n",
    "    print (\"MD5 verified\")\n",
    "else:\n",
    "    print (\"MD5 verification failed!\")"
   ]
  },
  {
   "cell_type": "markdown",
   "id": "dffd5ef5",
   "metadata": {},
   "source": [
    "#Read a whole file of hastags... are our current ones in there\n"
   ]
  },
  {
   "cell_type": "code",
   "execution_count": null,
   "id": "665b3bb9",
   "metadata": {},
   "outputs": [],
   "source": [
    "def extract_hashtags(file_name):\n",
    "    with open(file_name, 'r') as file:\n",
    "        lines = file.readlines()\n",
    "    hashtags = [line.split()[0] for line in lines if line.strip()]\n",
    "    return hashtags\n",
    "\n",
    "# Use the function\n",
    "hashtags = extract_hashtags('raw MD5)\n",
    "for hashtag in hashtags:\n",
    "    found = True if hashtag in tabledf.lco[:,\"MD5\"] else False\n",
    "    print(f\"{hashtag}\" found  = {found})\n",
    "    "
   ]
  }
 ],
 "metadata": {
  "kernelspec": {
   "display_name": "Python 3 (ipykernel)",
   "language": "python",
   "name": "python3"
  },
  "language_info": {
   "codemirror_mode": {
    "name": "ipython",
    "version": 3
   },
   "file_extension": ".py",
   "mimetype": "text/x-python",
   "name": "python",
   "nbconvert_exporter": "python",
   "pygments_lexer": "ipython3",
   "version": "3.7.4"
  }
 },
 "nbformat": 4,
 "nbformat_minor": 5
}
