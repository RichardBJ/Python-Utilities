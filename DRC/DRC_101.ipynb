{
 "cells": [
  {
   "cell_type": "code",
   "execution_count": 35,
   "metadata": {},
   "outputs": [
    {
     "data": {
      "text/plain": [
       "array([2.90117177, 3.82597294])"
      ]
     },
     "execution_count": 35,
     "metadata": {},
     "output_type": "execute_result"
    }
   ],
   "source": [
    "import numpy as np\n",
    "import matplotlib.pyplot as plt\n",
    "from scipy.optimize import curve_fit\n",
    "\n",
    "# Define the function to fit\n",
    "def decDRC(c, kd, h=1):\n",
    "    Max=1\n",
    "    Min=0\n",
    "    top=(c**h)\n",
    "    bot=(c**h)+(kd**h)\n",
    "    res = 1-(top/bot)\n",
    "    res = Max*res + Min\n",
    "    return res\n",
    "\n",
    "# Generate example data\n",
    "x = np.array([1, 2, 3, 4, 5])\n",
    "y = np.array([0.9, 0.8, 0.5, 0.2, 0.1])\n",
    "\n",
    "#initial\n",
    "start=(3,1)\n",
    "# Fit the curve\n",
    "popt, pcov = curve_fit(decDRC, x, y, p0=start)\n",
    "\n",
    "popt"
   ]
  },
  {
   "cell_type": "code",
   "execution_count": 36,
   "metadata": {},
   "outputs": [],
   "source": [
    "# Extract the optimized parameters\n",
    "kd_fit, h_fit = popt\n",
    "\n",
    "# Generate x values for the fitted curve\n",
    "x_new = np.linspace(min(x), max(x), 100)\n",
    "y_fit = decDRC(x_new, kd_fit, h_fit)"
   ]
  },
  {
   "cell_type": "code",
   "execution_count": 37,
   "metadata": {},
   "outputs": [
    {
     "data": {
      "image/png": "[encoded data removed]",
      "text/plain": [
       "<Figure size 432x288 with 1 Axes>"
      ]
     },
     "metadata": {
      "needs_background": "light"
     },
     "output_type": "display_data"
    }
   ],
   "source": [
    "# Plot the data and the fitted curve\n",
    "plt.plot(x, y, 'ro', label='Data')\n",
    "plt.plot(x_new, y_fit, 'b-', label='Fit')\n",
    "plt.xlabel('Dose')\n",
    "plt.ylabel('Response')\n",
    "plt.legend()\n",
    "plt.show()"
   ]
  },
  {
   "cell_type": "code",
   "execution_count": null,
   "metadata": {},
   "outputs": [],
   "source": []
  }
 ],
 "metadata": {
  "kernelspec": {
   "display_name": "Python 3",
   "language": "python",
   "name": "python3"
  },
  "language_info": {
   "codemirror_mode": {
    "name": "ipython",
    "version": 3
   },
   "file_extension": ".py",
   "mimetype": "text/x-python",
   "name": "python",
   "nbconvert_exporter": "python",
   "pygments_lexer": "ipython3",
   "version": "3.7.4"
  }
 },
 "nbformat": 4,
 "nbformat_minor": 2
}
