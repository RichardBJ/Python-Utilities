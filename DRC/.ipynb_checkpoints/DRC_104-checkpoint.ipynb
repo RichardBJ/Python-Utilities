{
 "cells": [
  {
   "cell_type": "code",
   "execution_count": 57,
   "metadata": {},
   "outputs": [
    {
     "data": {
      "text/plain": [
       "array([5.86316957e-04, 1.50000000e+00, 1.70000000e+00, 9.80678599e-01])"
      ]
     },
     "execution_count": 57,
     "metadata": {},
     "output_type": "execute_result"
    }
   ],
   "source": [
    "import numpy as np\n",
    "import matplotlib.pyplot as plt\n",
    "from scipy.optimize import curve_fit\n",
    "\n",
    "# Define the function to fit\n",
    "def decDRC(c, kd, h=1, Max=1, Min=0):\n",
    "    top=(c**h)\n",
    "    bot=(c**h)+(kd**h)\n",
    "    res = 1-(top/bot)\n",
    "    res = (Max-Min)*res + Min\n",
    "    return res\n",
    "\n",
    "# Generate example data\n",
    "x = np.array([0.0003,0.001,0.003,0.01,0.177])\n",
    "y = np.array([1.664189298,0.814404835,0.837508998,0.783916765,1])\n",
    "error = np.array([0.3,0.274420398,0.232759937,0.262154606,0.060254655])\n",
    "\n",
    "#initial kd, h, max, min\n",
    "start=(0.003,1,1.4,0.6)\n",
    "\n",
    "#Constraints kd, h, max, min : kd, h, max, min\n",
    "bounds=([0.0001, 1, 1, 0.6], [0.01, 1.5, 1.7, 1.0])\n",
    "\n",
    "# Fit the curve\n",
    "popt, pcov = curve_fit(decDRC, x, y, sigma=error/y, p0=start, bounds=bounds)\n",
    "\n",
    "popt\n"
   ]
  },
  {
   "cell_type": "code",
   "execution_count": 58,
   "metadata": {},
   "outputs": [],
   "source": [
    "# Extract the optimized parameters\n",
    "kd_fit, h_fit, Max_fit, Min_fit = popt\n",
    "\n",
    "# Generate x values for the fitted curve\n",
    "x_new = np.logspace(-6, 0, 100)\n",
    "y_fit = decDRC(x_new, kd_fit, h_fit, Max_fit, Min_fit)"
   ]
  },
  {
   "cell_type": "code",
   "execution_count": 59,
   "metadata": {},
   "outputs": [
    {
     "data": {
      "image/png": "[encoded data removed]",
      "text/plain": [
       "<Figure size 432x288 with 1 Axes>"
      ]
     },
     "metadata": {
      "needs_background": "light"
     },
     "output_type": "display_data"
    }
   ],
   "source": [
    "# Plot the data and the fitted curve\n",
    "plt.plot(x, y, 'ro', label='Data')\n",
    "plt.plot(x_new, y_fit, 'b-', label='Fit')\n",
    "plt.errorbar(x, y, yerr=error)\n",
    "plt.xscale(\"log\")\n",
    "plt.ylim([0,2])\n",
    "plt.xlabel('Dose')\n",
    "plt.ylabel('Response')\n",
    "plt.legend()\n",
    "plt.show()"
   ]
  },
  {
   "cell_type": "code",
   "execution_count": null,
   "metadata": {},
   "outputs": [],
   "source": []
  },
  {
   "cell_type": "code",
   "execution_count": null,
   "metadata": {},
   "outputs": [],
   "source": []
  }
 ],
 "metadata": {
  "kernelspec": {
   "display_name": "Python 3",
   "language": "python",
   "name": "python3"
  },
  "language_info": {
   "codemirror_mode": {
    "name": "ipython",
    "version": 3
   },
   "file_extension": ".py",
   "mimetype": "text/x-python",
   "name": "python",
   "nbconvert_exporter": "python",
   "pygments_lexer": "ipython3",
   "version": "3.7.4"
  }
 },
 "nbformat": 4,
 "nbformat_minor": 2
}
