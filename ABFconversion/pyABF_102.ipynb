{
 "cells": [
  {
   "cell_type": "markdown",
   "metadata": {},
   "source": [
    " https://github.com/swharden/pyABF/tree/master/data"
   ]
  },
  {
   "cell_type": "code",
   "execution_count": null,
   "metadata": {},
   "outputs": [],
   "source": [
    "import pyabf\n",
    "import numpy as np\n",
    "import pandas as PD\n",
    "import matplotlib.pyplot as plt\n",
    "plt.rcParams[\"figure.figsize\"]=25,5"
   ]
  },
  {
   "cell_type": "code",
   "execution_count": null,
   "metadata": {},
   "outputs": [],
   "source": [
    "import glob\n",
    "files = glob.glob(\"**/*.abf\", recursive=True )\n",
    "for file in files:\n",
    "    print (file)"
   ]
  },
  {
   "cell_type": "code",
   "execution_count": null,
   "metadata": {},
   "outputs": [],
   "source": [
    "WRITE_STATUS = False\n",
    "PLOT = True\n",
    "CONVERT = False\n",
    "def do_file(infile):\n",
    "    abf = pyabf.ABF(infile)\n",
    "    abf.setSweep(0)\n",
    "    print(f\"\\nSample Rate {abf.dataRate} Hz\")\n",
    "    print(f\"Sample Rate {abf.dataPointsPerMs} kHz\")\n",
    "    print(f\"Sample Interval {1/abf.dataRate} s\")\n",
    "    print(f\"Sample Interval {1/abf.dataPointsPerMs} ms\")    \n",
    "    print(f\"Duration {abf.dataLengthSec} s\")\n",
    "    print(f\"N data points {abf.dataPointCount}\")\n",
    "    if CONVERT:\n",
    "        df=PD.DataFrame(data=abf.sweepY)\n",
    "        fileout=infile.replace(\".abf\",\".txt\")\n",
    "        df.to_csv(fileout, index=False, header=False)\n",
    "    if PLOT:\n",
    "        plt.figure(num=1, clear=True)\n",
    "        plt.subplot(2,1,1)\n",
    "        plt.title(infile)\n",
    "        if abf.dataPointCount > 100000:\n",
    "            maxX=100000\n",
    "        else:\n",
    "            maxX=abf.dataPointCount\n",
    "        plt.plot(abf.sweepY[:100000])\n",
    "        plt.subplot(2,1,2)\n",
    "        plt.plot(abf.sweepY)\n",
    "        figout=infile.replace(\".abf\",\".png\")\n",
    "        plt.savefig(figout, format=\"png\")\n",
    "    if WRITE_STATUS:\n",
    "        with open(\"convert_status.txt\", \"a\") as f:\n",
    "            f.write(f\"\\n\\nStarting: {infile}\")\n",
    "            f.write(f\"\\nSample Rate {abf.dataRate} Hz\")\n",
    "            f.write(f\"\\nSample Rate {abf.dataPointsPerMs} kHz\")\n",
    "            f.write(f\"\\nSample Interval {1/abf.dataRate} s\")\n",
    "            f.write(f\"\\nSample Interval {1/abf.dataPointsPerMs} ms\")  \n",
    "            f.write(f\"\\nDuration {abf.dataLengthSec} s\")\n",
    "            f.write(f\"\\nN data points {abf.dataPointCount}\")\n",
    "            f.write(f\"\\n{infile} Completed\")"
   ]
  },
  {
   "cell_type": "code",
   "execution_count": null,
   "metadata": {
    "scrolled": true
   },
   "outputs": [],
   "source": [
    "for file in files:\n",
    "    print(\"Starting\", file)\n",
    "    do_file(file)\n",
    "    print(\"Completed:\", file)"
   ]
  },
  {
   "cell_type": "code",
   "execution_count": null,
   "metadata": {},
   "outputs": [],
   "source": [
    "file = \"2021.03.23\\Cell_2 HEK_BKCa_0000.abf\"\n",
    "abf = pyabf.ABF(file)\n",
    "abf.setSweep(0)"
   ]
  },
  {
   "cell_type": "code",
   "execution_count": null,
   "metadata": {},
   "outputs": [],
   "source": [
    "do_file (file)"
   ]
  },
  {
   "cell_type": "code",
   "execution_count": null,
   "metadata": {},
   "outputs": [],
   "source": [
    "dir(abf)"
   ]
  },
  {
   "cell_type": "code",
   "execution_count": null,
   "metadata": {},
   "outputs": [],
   "source": [
    "print(f\"Sample Rate {abf.dataRate} Hz\")\n",
    "print(f\"Sample Rate {abf.dataPointsPerMs} kHz\")\n",
    "print(f\"Sample Interval {1/abf.dataRate} s\")\n",
    "print(f\"Sample Interval {1/abf.dataPointsPerMs} ms\")    \n",
    "print(f\"Duration {abf.dataLengthSec} s\")\n",
    "print(f\"N data points {abf.dataPointCount}\")"
   ]
  },
  {
   "cell_type": "code",
   "execution_count": null,
   "metadata": {},
   "outputs": [],
   "source": [
    "plt.subplot(2,1,1)\n",
    "plt.title(filein)\n",
    "if abf.dataPointCount > 100000:\n",
    "    maxX=100000\n",
    "else:\n",
    "    maxX=abf.dataPointCount\n",
    "        \n",
    "plt.plot(abf.sweepY[:100000])\n",
    "plt.subplot(2,1,2)\n",
    "plt.plot(abf.sweepY)\n",
    "figout=filein.replace(\".abf\",\".png\")\n",
    "plt.savefig(figout, format=\"png\")"
   ]
  },
  {
   "cell_type": "code",
   "execution_count": null,
   "metadata": {},
   "outputs": [],
   "source": [
    "print(f\"ChannelY -> data length = {abf.sweepY.shape}, max={np.max(abf.sweepY)} and min = {np.min(abf.sweepY)}\" )\n",
    "print(f\"ChannelC -> data length = {abf.sweepC.shape}, max={np.max(abf.sweepC)} and min = {np.min(abf.sweepC)}\" )\n",
    "print(f\"Channelx (time) -> data length = max={np.max(abf.sweepX)} and min = {np.min(abf.sweepX)}\" )\n",
    "print(f\"Average frequency = {0.001* 1/(np.mean(abf.sweepX)/abf.sweepX.shape[0])}kHz\")"
   ]
  },
  {
   "cell_type": "code",
   "execution_count": null,
   "metadata": {},
   "outputs": [],
   "source": []
  }
 ],
 "metadata": {
  "kernelspec": {
   "display_name": "Python 3",
   "language": "python",
   "name": "python3"
  },
  "language_info": {
   "codemirror_mode": {
    "name": "ipython",
    "version": 3
   },
   "file_extension": ".py",
   "mimetype": "text/x-python",
   "name": "python",
   "nbconvert_exporter": "python",
   "pygments_lexer": "ipython3",
   "version": "3.7.4"
  }
 },
 "nbformat": 4,
 "nbformat_minor": 2
}
