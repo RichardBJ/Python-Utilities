{
 "cells": [
  {
   "cell_type": "markdown",
   "id": "b6811730",
   "metadata": {},
   "source": [
    "#Make an animation having just created a folder full of pngs etc..."
   ]
  },
  {
   "cell_type": "code",
   "execution_count": null,
   "id": "29d31c6c",
   "metadata": {},
   "outputs": [],
   "source": [
    "import imageio, glob, re\n",
    "anim_file = 'movie.mp4'\n",
    "with imageio.get_writer(anim_file,fps=5) as writer:\n",
    "  filenames = glob.glob('pix/*.png')\n",
    "  # This sort method seems OK filename just a number\n",
    "  filenames = sorted(filenames)\n",
    "  # This is smarter?\n",
    "  filenames.sort(key=lambda f: int(re.sub('\\D', '', f)))\n",
    "  for filename in filenames:\n",
    "    image = imageio.imread(filename)\n",
    "    writer.append_data(image)\n",
    "  image = imageio.imread(filename)\n",
    "  writer.append_data(image)\n",
    "\n",
    "anim_file = 'movie.gif'\n",
    "with imageio.get_writer(anim_file,fps=1) as writer:\n",
    "  filenames = glob.glob('images/image*.png')\n",
    "  # This sort method seems OK filename just a number\n",
    "  filenames = sorted(filenames)\n",
    "  # This is smarter?\n",
    "  filenames.sort(key=lambda f: int(re.sub('\\D', '', f)))\n",
    "  decimate=2\n",
    "  for count,filename in enumerate(filenames):\n",
    "    if count%decimate==0:\n",
    "        image = imageio.imread(filename)\n",
    "        writer.append_data(image)\n",
    "  image = imageio.imread(filename)\n",
    "  writer.append_data(image)"
   ]
  }
 ],
 "metadata": {
  "kernelspec": {
   "display_name": "Python 3 (ipykernel)",
   "language": "python",
   "name": "python3"
  },
  "language_info": {
   "codemirror_mode": {
    "name": "ipython",
    "version": 3
   },
   "file_extension": ".py",
   "mimetype": "text/x-python",
   "name": "python",
   "nbconvert_exporter": "python",
   "pygments_lexer": "ipython3",
   "version": "3.9.15"
  }
 },
 "nbformat": 4,
 "nbformat_minor": 5
}
