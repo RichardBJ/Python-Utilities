{
 "cells": [
  {
   "cell_type": "code",
   "execution_count": 1,
   "id": "f9164f9e-46b2-4091-97bb-21537c5a5590",
   "metadata": {},
   "outputs": [
    {
     "name": "stderr",
     "output_type": "stream",
     "text": [
      "2024-10-23 16:43:34.608 python[32755:1134678] +[IMKClient subclass]: chose IMKClient_Legacy\n",
      "2024-10-23 16:43:34.877 python[32755:1134678] The class 'NSOpenPanel' overrides the method identifier.  This method is implemented by class 'NSWindow'\n"
     ]
    },
    {
     "name": "stdout",
     "output_type": "stream",
     "text": [
      "No file selected.\n"
     ]
    }
   ],
   "source": [
    "import pandas as pd\n",
    "from PyQt5.QtWidgets import QFileDialog\n",
    "from PyQt5.QtWidgets import QApplication\n",
    "import os\n",
    "import math\n",
    "import numpy as np\n",
    "\"\"\"\n",
    "splits parquet format files. Also this version assumes there is\n",
    "a Time column. Set the number of splits within the code as indicated.\n",
    "Output will be a set of parquet files with {number} at the end.\n",
    "\n",
    "\"\"\"\n",
    "\n",
    "app = QApplication([])\n",
    "\n",
    "# Open file dialog to select the parquet file\n",
    "file_dialog = QFileDialog()\n",
    "parquet_file_path, _ = file_dialog.getOpenFileName()\n",
    "# Define the number of splits\n",
    "num_splits = 50  # Change this to your desired number of splits\n",
    "if parquet_file_path:\n",
    "    # Read the parquet file\n",
    "    print(f\"Reading file {parquet_file_path}\")\n",
    "    df = pd.read_parquet(parquet_file_path)\n",
    "    print(\"File read\")\n",
    "    # Calculate the length of each split\n",
    "    split_len = math.floor(len(df) / num_splits)\n",
    "    si = (df[\"Time\"][100]-df[\"Time\"][50])/50\n",
    "    # Split the dataframe and save each split\n",
    "    for i, start in enumerate(range(0, len(df), split_len), 1):\n",
    "        df_split = df.iloc[start:start + split_len]\n",
    "        split_file_path = f\"{os.path.splitext(parquet_file_path)[0]}_{i}.parquet\"\n",
    "        df_split.loc[:,\"Time\"] = np.arange(0, len(df_split)*si, si)\n",
    "        df_split.reset_index(drop=True, inplace=True)\n",
    "        df_split.to_parquet(split_file_path)\n",
    "\n",
    "    print(f\"Split the file into {i} parts.\")\n",
    "else:\n",
    "    print(\"No file selected.\")"
   ]
  },
  {
   "cell_type": "code",
   "execution_count": null,
   "id": "7222c0a7-52d3-406d-b200-b26cc2dd63b1",
   "metadata": {},
   "outputs": [],
   "source": []
  }
 ],
 "metadata": {
  "kernelspec": {
   "display_name": "Python 3 (ipykernel)",
   "language": "python",
   "name": "python3"
  },
  "language_info": {
   "codemirror_mode": {
    "name": "ipython",
    "version": 3
   },
   "file_extension": ".py",
   "mimetype": "text/x-python",
   "name": "python",
   "nbconvert_exporter": "python",
   "pygments_lexer": "ipython3",
   "version": "3.9.19"
  }
 },
 "nbformat": 4,
 "nbformat_minor": 5
}
